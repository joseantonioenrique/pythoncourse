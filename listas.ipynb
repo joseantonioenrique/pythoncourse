{
  "nbformat": 4,
  "nbformat_minor": 0,
  "metadata": {
    "colab": {
      "name": "listas.ipynb",
      "private_outputs": true,
      "provenance": [],
      "collapsed_sections": [],
      "toc_visible": true,
      "include_colab_link": true
    },
    "kernelspec": {
      "name": "python3",
      "display_name": "Python 3"
    }
  },
  "cells": [
    {
      "cell_type": "markdown",
      "metadata": {
        "id": "view-in-github",
        "colab_type": "text"
      },
      "source": [
        "<a href=\"https://colab.research.google.com/github/joseantonioenrique/pythoncourse/blob/main/listas.ipynb\" target=\"_parent\"><img src=\"https://colab.research.google.com/assets/colab-badge.svg\" alt=\"Open In Colab\"/></a>"
      ]
    },
    {
      "cell_type": "code",
      "metadata": {
        "id": "w0jw9-ro-yzy"
      },
      "source": [
        ""
      ],
      "execution_count": null,
      "outputs": []
    },
    {
      "cell_type": "markdown",
      "metadata": {
        "id": "0WBrucQN-09K"
      },
      "source": [
        "##**Listas**\n",
        "\n",
        "\n"
      ]
    },
    {
      "cell_type": "markdown",
      "metadata": {
        "id": "qt_J53Ew-7o_"
      },
      "source": [
        "Vamos a empezar a trabajar con listas, lo que en muchos lenguajes llaman arrays.\n"
      ]
    },
    {
      "cell_type": "code",
      "metadata": {
        "id": "GTbSTnaC_BuH"
      },
      "source": [
        "a=[1,2,3,4,5,6,7] # soy una lista de números\n",
        "print(\"La lista es de tipo\",type(a))\n",
        "b=['Hola','Hello','Hallo','Bonjour'] # soy una lista de palabras\n",
        "print(a)\n",
        "print(b)\n",
        "#range(10) nos listará los primeros 10 números y le pedimos que nos lo de como una lista\n",
        "c=list(range(10)) \n",
        "print(c) # fijate que empieza en el 0 y 10 números termina en el 9\n"
      ],
      "execution_count": null,
      "outputs": []
    },
    {
      "cell_type": "markdown",
      "metadata": {
        "id": "guI9JLEP_bCT"
      },
      "source": [
        "Podemos sacar cosas de la lista, para ello los elementos se nombran empezando por la posición cero. \n"
      ]
    },
    {
      "cell_type": "code",
      "metadata": {
        "id": "F15Se-rg_lRX"
      },
      "source": [
        "print(a[3]) # imprimimos el elemento que esta en el cuarto lugar, posición 3\n",
        "print(b[0]) # el primer saludo"
      ],
      "execution_count": null,
      "outputs": []
    },
    {
      "cell_type": "markdown",
      "metadata": {
        "id": "jqceyZ3RdEbi"
      },
      "source": [
        "No es necesario que sea todo del mismo tipo"
      ]
    },
    {
      "cell_type": "code",
      "metadata": {
        "id": "aPE6Ybe5stSC"
      },
      "source": [
        "# las palabras en el fondo son listas\n",
        "p='palabra'\n",
        "print(p[4]) # la quinta letra, lugar 4 desde cero, es la b\n",
        "q=list(p)\n",
        "print(q)\n"
      ],
      "execution_count": null,
      "outputs": []
    },
    {
      "cell_type": "code",
      "metadata": {
        "id": "PQh6uXg8dJZ2"
      },
      "source": [
        "mezcla=[1,'coco','hola',3.4]\n",
        "print(mezcla)"
      ],
      "execution_count": null,
      "outputs": []
    },
    {
      "cell_type": "markdown",
      "metadata": {
        "id": "LEvNvER7_yL1"
      },
      "source": [
        "## Operar con listas\n",
        "Podemos operar con las listas.\n"
      ]
    },
    {
      "cell_type": "code",
      "metadata": {
        "id": "uyBm75TZ_1E_"
      },
      "source": [
        "a+b # ¿nos dará error?, Suma los elementos de a uno a uno con los de b, imposible, números y letras. Entonces"
      ],
      "execution_count": null,
      "outputs": []
    },
    {
      "cell_type": "markdown",
      "metadata": {
        "id": "iMGmKKMWdeUu"
      },
      "source": [
        "Lo que ha hecho es crear una lista anidada, a la lista a le ha añadido la lista b. Ahora fijate:"
      ]
    },
    {
      "cell_type": "code",
      "metadata": {
        "id": "Y9lG15cldmQP"
      },
      "source": [
        "print(a+b)\n",
        "print(b+a)\n",
        "if a+b==b+a:\n",
        "  print('Esta suma es conmutativa')\n",
        "else: \n",
        "  print('Ves, no todo es conmutativo. El orden es importante')"
      ],
      "execution_count": null,
      "outputs": []
    },
    {
      "cell_type": "markdown",
      "metadata": {
        "id": "WFLF_cB0eAYG"
      },
      "source": [
        "Podemos cambiar de valor parte de la lista. Por ejemplo en **a** vamos a cambiar el que ocupa el lugar 2 que es un 3 por un 20"
      ]
    },
    {
      "cell_type": "code",
      "metadata": {
        "id": "ISfX61lDeLm_"
      },
      "source": [
        "import math\n",
        "print(a)\n",
        "a[2]=20\n",
        "print(a) # hemos perdido el valor que ocupa el valor 3\n",
        "# y podemos hacer operaciones también\n",
        "a[1]=math.factorial(a[3]) # cambiamos el que ocupa el lugar 2, es decir el 2, por factorial del que ocupa el lugar 4, que es un 4 y 4 factorial es 4*3*2*1=24\n",
        "print(a)"
      ],
      "execution_count": null,
      "outputs": []
    },
    {
      "cell_type": "code",
      "metadata": {
        "id": "CPP7jk_VfvO4"
      },
      "source": [
        "letras = ['a','b','c','d','e','f']\n",
        "print(letras[:3]) # con esto sacamos un subconjunto de las lista, los 3 primeros\n",
        "print(letras[3:]) # las tres últimas\n",
        "print(letras[2:5]) # desde la posición 2 a la 5, incluyendo la 2 pero no la 5  \n",
        "p=list('supercalifragelisticoespialidoso')\n",
        "print(p)\n",
        "p[2:10:3] # [star:stop:step] empieza en la posición 2 hasta la 10 y va de 3 en 3 "
      ],
      "execution_count": null,
      "outputs": []
    },
    {
      "cell_type": "code",
      "metadata": {
        "id": "70n8iuNuf8fu"
      },
      "source": [
        "# y cambiar los dos primeros valores o los que queramos de golpe\n",
        "letras[:2]=['A','B']\n",
        "letras"
      ],
      "execution_count": null,
      "outputs": []
    },
    {
      "cell_type": "markdown",
      "metadata": {
        "id": "TtFd6Q76g6kI"
      },
      "source": [
        "Ojo, no te pases de rango que dará error, *list index out of range*"
      ]
    },
    {
      "cell_type": "code",
      "metadata": {
        "id": "dZnHTK-Fg-JL"
      },
      "source": [
        "letras[40]\n"
      ],
      "execution_count": null,
      "outputs": []
    },
    {
      "cell_type": "markdown",
      "metadata": {
        "id": "BYBLsipuhHPi"
      },
      "source": [
        "Y cuántos elementos tiene una lista?. Usamos la función **len**"
      ]
    },
    {
      "cell_type": "code",
      "metadata": {
        "id": "wIJjvvPKhOoB"
      },
      "source": [
        "len(letras)  # cuenta los elementos de la lista\n",
        "\n"
      ],
      "execution_count": null,
      "outputs": []
    },
    {
      "cell_type": "markdown",
      "metadata": {
        "id": "TezOno7DiEjD"
      },
      "source": [
        "#Funciones con listas\n",
        "Append\n",
        "\n",
        "Extend\n",
        "\n",
        "Remove\n",
        "\n",
        "pop\n",
        "\n",
        "clear\n",
        "\n",
        "Index\n",
        "\n",
        "Count\n",
        "\n",
        "\n",
        "\n",
        "vamos un ejemplo con cada una y así sabemos como funciona y sus diferencias"
      ]
    },
    {
      "cell_type": "code",
      "metadata": {
        "id": "mLwpyhQViYPH"
      },
      "source": [
        "lista=[2,3,4,6,7,5,7,8,2,1,2,6,7,8,9,6,5,4,3]\n",
        "lista.append('nuevo') # añade al final el elemento que pongamos\n",
        "print(lista)"
      ],
      "execution_count": null,
      "outputs": []
    },
    {
      "cell_type": "code",
      "metadata": {
        "id": "5vcOfAFriqRE"
      },
      "source": [
        "# una lista puede estar formada por listas, es decir, una lista de listas, esto es una matriz, una tabla de datos con filas y comunas. Por ejemplo, imagina que \n",
        "# tenemos un menu, y almacenados en primer lugar las ensaladas, después el primer plato, y al final los postres\n",
        "matriz=[['ensalada de tomate','ensalada cesar'],['Lasaña','Potaje','Olla gitana','Arroz y verduras'],['Fruta del día','Natillas','Nada que engorda']]\n",
        "print(matriz)\n",
        "matriz.append(['Cafe','Infusión']) # nos va a añadir una nueva lista, la sobremesa esta vez\n",
        "print(matriz)"
      ],
      "execution_count": null,
      "outputs": []
    },
    {
      "cell_type": "markdown",
      "metadata": {
        "id": "BjPDOyGyk2EU"
      },
      "source": [
        "¿Qué tienes de postre?"
      ]
    },
    {
      "cell_type": "code",
      "metadata": {
        "id": "VzIvvHRxlF57"
      },
      "source": [
        "print(matriz[2])\n",
        "print('La primera opción que tenemos de postre es: ', matriz[2][0]) # y la primera opción del postre"
      ],
      "execution_count": null,
      "outputs": []
    },
    {
      "cell_type": "markdown",
      "metadata": {
        "id": "0Xbv4hG9lr_8"
      },
      "source": [
        "**Extend** es útil para añadir uno a uno los elementos de una lista a otra lista. \n"
      ]
    },
    {
      "cell_type": "code",
      "metadata": {
        "id": "ULEOLxUQj1AD"
      },
      "source": [
        "lista2=[1,2,3]\n",
        "print(lista2)\n",
        "lista2.extend([4,5]) \n",
        "print(lista2)\n",
        "lista=[2,3,4,6,7,5,7,8,2,1,2,6,7,8,9,6,5,4,3]\n",
        "lista.extend(['a','b'])\n",
        "print(lista) # observa que nos añade los objetos de la lista, no la lista como tal\n",
        "lista=[2,3,4,6,7,5,7,8,2,1,2,6,7,8,9,6,5,4,3]\n",
        "lista.append(['a','b']) # aqui nos añade al final la lista entera, como tal por eso aparece []\n",
        "print(lista)\n"
      ],
      "execution_count": null,
      "outputs": []
    },
    {
      "cell_type": "markdown",
      "metadata": {
        "id": "7s1H1clxmRfp"
      },
      "source": [
        "**Remove** supongo que está claro, a eliminar"
      ]
    },
    {
      "cell_type": "code",
      "metadata": {
        "id": "k7rVhxLEmYt1"
      },
      "source": [
        "lista2=[1,3,3,4,2,5,6]\n",
        "print(lista2)\n",
        "lista2.remove(2) # le decimos el elemento que queremos eliminar, en este caso el 2, este donde este y todos\n",
        "print(lista2)"
      ],
      "execution_count": null,
      "outputs": []
    },
    {
      "cell_type": "markdown",
      "metadata": {
        "id": "NENFsVgJntSA"
      },
      "source": [
        "**pop** Ahora elimina según el lugar que ocupa"
      ]
    },
    {
      "cell_type": "code",
      "metadata": {
        "id": "6Q13lEY3n1Si"
      },
      "source": [
        "lista2=[1,2,3,4,2,5,6]\n",
        "print(lista2)\n",
        "lista2.pop(2) # le decimos elimina el valor que este en la posición tercera, recuerda empieza a contar por el cero, en este caso el 3\n",
        "print(lista2)\n",
        "#tambié podemos usar del, recuerda,el primer orden es 0 y el último es -1\n",
        "lista2=[1,2,3,4,2,5,6]\n",
        "del lista2[-1]\n",
        "print('Hemos creado de nuevo la lista y hemos eliminado el último',lista2)\n"
      ],
      "execution_count": null,
      "outputs": []
    },
    {
      "cell_type": "markdown",
      "metadata": {
        "id": "VX1QimDaoLvL"
      },
      "source": [
        "**clear** esta claro, se los carga todos"
      ]
    },
    {
      "cell_type": "code",
      "metadata": {
        "id": "tT1mfCHEoP3f"
      },
      "source": [
        "lista2=[1,2,3,4,2,5,6]\n",
        "lista2.clear()\n",
        "print(lista2)\n"
      ],
      "execution_count": null,
      "outputs": []
    },
    {
      "cell_type": "markdown",
      "metadata": {
        "id": "YOKRPyWUpPFR"
      },
      "source": [
        "**Index** esto nos dará el lugar que ocupa el elemento que le pasamos"
      ]
    },
    {
      "cell_type": "code",
      "metadata": {
        "id": "DZ4Lr-lVpVmg"
      },
      "source": [
        "lista2=[1,2,3,4,2,5,6,1]\n",
        "lista2.index(1) # en que posición está el 1, solamente dará la primera que encuntre"
      ],
      "execution_count": null,
      "outputs": []
    },
    {
      "cell_type": "markdown",
      "metadata": {
        "id": "003nkENJpogF"
      },
      "source": [
        "**count** y cuántas vece aparece?"
      ]
    },
    {
      "cell_type": "code",
      "metadata": {
        "id": "LplosXcSpwei"
      },
      "source": [
        "lista2=[1,2,3,4,2,5,6,1]\n",
        "lista2.count(1)\n"
      ],
      "execution_count": null,
      "outputs": []
    },
    {
      "cell_type": "code",
      "metadata": {
        "id": "eFXLsXitp8Zw"
      },
      "source": [
        "#vamos a ver si esta en el menu lo que queremos comer \n",
        "\n",
        "print('Qué ensalada le gustaría')\n",
        "ensalada=input()\n",
        "\n",
        "if matriz[0].count(ensalada) > 0:\n",
        "  print(ensalada,' la tenememos en el menu')\n",
        "else:\n",
        "  print('lo siento', ensalada, 'no la tenemos en el menu', matriz[0].count(ensalada) )"
      ],
      "execution_count": null,
      "outputs": []
    },
    {
      "cell_type": "markdown",
      "metadata": {
        "id": "0IHu7I0W2GSk"
      },
      "source": [
        "# Recorrer una lista bucle for\n",
        "\n",
        "En muchas ocasiones vamos a necesitar recorrer una lista. Imagina que le pedimos a un usario que nos diga un número, y queremos obtener todos aquellos de una lista que sean menores o iguales que él. \n",
        "Tenemos dos formas, usar un while o algo nuevo, un for"
      ]
    },
    {
      "cell_type": "code",
      "metadata": {
        "id": "1jAdJdUz26gd"
      },
      "source": [
        "lista=list(range(20))\n",
        "print('Introduce un número menor que 20')\n",
        "n=int(input())\n",
        "i=0;\n",
        "while i< len(lista): \n",
        "  if lista[i]<n:\n",
        "    print('el número', lista[i],' es menor que ',n)\n",
        "  i+=1"
      ],
      "execution_count": null,
      "outputs": []
    },
    {
      "cell_type": "markdown",
      "metadata": {
        "id": "P5_ReK3D4UH4"
      },
      "source": [
        "Ahora vamos a usar un for, verás como va ser más fácil"
      ]
    },
    {
      "cell_type": "code",
      "metadata": {
        "id": "Y1BP2USm4dhf"
      },
      "source": [
        "lista=['hola','soy ','Coco']\n",
        "for x in lista:  # esto va recorriendo la lista y le da los valores a x de cada elemento\n",
        "  print(x)\n"
      ],
      "execution_count": null,
      "outputs": []
    },
    {
      "cell_type": "code",
      "metadata": {
        "id": "G7UiEMcT4ztu"
      },
      "source": [
        "lista=['hola','soy','Coco']\n",
        "for x in lista:  # esto va recorriendo la lista y le da los valores a x de cada elemento\n",
        "  if len(x)>3:\n",
        "    print('La palabra- ',x,' -que tiene',len(x),'letras, tiene más de 3 letras')"
      ],
      "execution_count": null,
      "outputs": []
    },
    {
      "cell_type": "code",
      "metadata": {
        "id": "LyTDSHzE5oGK"
      },
      "source": [
        "fruits = [\"apple\", \"banana\", \"cherry\"]\n",
        "for x in fruits:\n",
        "  print(x)\n",
        "  if x == \"banana\":\n",
        "    break # la hemos encontrado y dejamos de recorrer la lista"
      ],
      "execution_count": null,
      "outputs": []
    },
    {
      "cell_type": "markdown",
      "metadata": {
        "id": "ZjL70zBk5yZz"
      },
      "source": [
        "También podemos usar la función range, recuerda, range(6) los números menores que 6.\n",
        "Si ponemos range(len(lista)) serán los índices, lugares , de los elementos de la lista. Veamos un ejemplo"
      ]
    },
    {
      "cell_type": "code",
      "metadata": {
        "id": "I8-e3WH-6J2H"
      },
      "source": [
        "lista=['hola','soy ','Coco']\n",
        "for x in range(len(lista)):  \n",
        "  print('El elemento que ocupa el lugar',x,' es', lista[x]) #ahora x no es el elemento, sino el lugar que ocupa"
      ],
      "execution_count": null,
      "outputs": []
    },
    {
      "cell_type": "code",
      "metadata": {
        "id": "UGK-jYfe6lxC"
      },
      "source": [
        "#podemos jugar un poco con range\n",
        "for x in range(11, 300, 11): # empieza en 11 y termina en 300 y va de 11 en 11(múltiplos 11 entre 20 y 300 )\n",
        "  print(x)"
      ],
      "execution_count": null,
      "outputs": []
    },
    {
      "cell_type": "markdown",
      "metadata": {
        "id": "tmKms-_l7CoH"
      },
      "source": [
        "**Ejemplo:** Determinar los múltiplos de 13 que hay entre 200 y 2000 y almacenarlos en una lista llamada multi. ¿Cuántos hay?. "
      ]
    },
    {
      "cell_type": "code",
      "metadata": {
        "id": "3soYSfZj7MDe"
      },
      "source": [
        "multi=[]\n",
        "for i in range(20,2000):\n",
        "  if i%13==0:\n",
        "    multi.append(i)\n",
        "    #menuda ristra y tarda nada, ¿le ganarías calculando?\n",
        "print('Existen ',len(multi), 'múltiplos de 13 entre 20 y 2000')"
      ],
      "execution_count": null,
      "outputs": []
    },
    {
      "cell_type": "markdown",
      "metadata": {
        "id": "BzHFFlvI8NXy"
      },
      "source": [
        "Podemos anidarlos, aunque esto, uff va subir el nivel, menudo liooooooo!!!!!"
      ]
    },
    {
      "cell_type": "code",
      "metadata": {
        "id": "3IjaW4kR8Smz"
      },
      "source": [
        "adj = [\"red\", \"big\", \"tasty\"]\n",
        "fruits = [\"apple\", \"banana\", \"cherry\"]\n",
        "\n",
        "for x in adj:\n",
        "  for y in fruits:\n",
        "    print(x, y)\n",
        "  # ¿ ves lo que ocurre? Avanza uno la x, y luego la y recorre toda la lista. A los de 4º, combinaciones...."
      ],
      "execution_count": null,
      "outputs": []
    },
    {
      "cell_type": "markdown",
      "metadata": {
        "id": "hUa8MpUN812l"
      },
      "source": [
        "**Ejercicio 1:** Realiza un programa que sume todos los números enteros pares desde el 0 hasta el 100.\n",
        "\n",
        "**Ejercicio 2:** Dadas dos listas, debes generar una tercera con todos los elementos que se repitan en ellas, pero no debe repetirse ningún elemento en la nueva lista:\n",
        "lista1=[1,2,36,5,4,4,5,6,3,2,5,6,7,8,4,5,6,7,2,1]\n",
        "lista2=[1,3,4,6,7,8,2,3,6,4,3,2,6,7,8,9]\n",
        "\n",
        "\n",
        "**Ejercicio 3:** Dado un número pedido al usario menor que 40, determinar su factorización ( usa la lista de los número primos menores que 30)\n",
        "primos=[2, 3, 5, 7, 11, 13, 17, 19, 23, 29, 31,37] \n",
        "\n",
        "\n",
        "**Ejercicio 4** Lista los elementos del menu, recuerda matriz. "
      ]
    }
  ]
}